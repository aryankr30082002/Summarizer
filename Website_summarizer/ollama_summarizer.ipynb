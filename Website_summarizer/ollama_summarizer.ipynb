{
 "cells": [
  {
   "cell_type": "code",
   "execution_count": 1,
   "id": "1f82c290",
   "metadata": {},
   "outputs": [
    {
     "data": {
      "text/markdown": [
       "Here is a summary of the website:\n",
       "* Edward Donner, co-founder and CTO of Nebula.io, introduces himself as a code writer, LLM experimenter, DJ, and amateur electronic music producer.\n",
       "* He mentions his previous startup, untapt, which was acquired in 2021.\n",
       "* His company, Nebula.io, uses AI to help people discover their potential and pursue their reason for being. They have patented their matching model and have happy customers with tons of press coverage.\n",
       "* The website also lists recent posts, including courses on LLM expertise and AI engineering, as well as a workshop on agent-based AI.\n",
       "\n",
       "Here is the summary in Markdown format:\n",
       "```markdown\n",
       "Introduction to Edward Donner\n",
       "==========================\n",
       "\n",
       "Edward Donner introduces himself as a code writer, LLM experimenter, DJ, and amateur electronic music producer. He mentions his previous startup, untapt, which was acquired in 2021.\n",
       "\n",
       "About Nebula.io\n",
       "----------------\n",
       "\n",
       "Nebula.io uses AI to help people discover their potential and pursue their reason for being. They have patented their matching model and have happy customers with tons of press coverage.\n",
       "\n",
       "Recent Posts\n",
       "-------------\n",
       "\n",
       "* Courses on LLM expertise and AI engineering\n",
       "* LLM Workshop – Hands-on with Agents – resources\n",
       "```"
      ],
      "text/plain": [
       "<IPython.core.display.Markdown object>"
      ]
     },
     "metadata": {},
     "output_type": "display_data"
    }
   ],
   "source": [
    "# Install necessary packages if not already installed:\n",
    "# pip install ollama beautifulsoup4 requests\n",
    "\n",
    "# Imports\n",
    "import requests\n",
    "from bs4 import BeautifulSoup\n",
    "from IPython.display import Markdown, display\n",
    "import ollama  # Ollama's official Python client\n",
    "\n",
    "# Function to fetch and parse website content \n",
    "headers = {\n",
    "    \"User-Agent\": \"Mozilla/5.0 (Windows NT 10.0; Win64; x64)\"\n",
    "}\n",
    "\n",
    "class Website:\n",
    "    def __init__(self, url):\n",
    "        \"\"\"\n",
    "        Fetch and parse the webpage using BeautifulSoup.\n",
    "        \"\"\"\n",
    "        self.url = url\n",
    "        response = requests.get(url, headers=headers)\n",
    "        soup = BeautifulSoup(response.content, 'html.parser')\n",
    "        self.title = soup.title.string if soup.title else \"No title found\"\n",
    "\n",
    "        # Remove unwanted elements\n",
    "        for tag in soup([\"script\", \"style\", \"img\", \"input\"]):\n",
    "            tag.decompose()\n",
    "\n",
    "        self.text = soup.get_text(separator=\"\\n\", strip=True)\n",
    "\n",
    "# Prompt Templates\n",
    "system_prompt = \"You are an assistant that summarizes website content. Ignore navigation, ads, or unrelated content. Respond concisely in Markdown.\"\n",
    "\n",
    "def user_prompt_for(website):\n",
    "    return f\"\"\"You are viewing a website titled: {website.title}.\n",
    "The content is as follows:\n",
    "{website.text}\n",
    "\n",
    "Please summarize this website clearly in Markdown format.\n",
    "\"\"\"\n",
    "\n",
    "def messages_for(website):\n",
    "    return [\n",
    "        {\"role\": \"system\", \"content\": system_prompt},\n",
    "        {\"role\": \"user\", \"content\": user_prompt_for(website)}\n",
    "    ]\n",
    "\n",
    "# Summarize Function using Ollama\n",
    "def summarize(url):\n",
    "    website = Website(url)\n",
    "    messages = messages_for(website)\n",
    "\n",
    "    # Call Ollama local server\n",
    "    response = ollama.chat(\n",
    "        model='llama3',  # Change to your local model if needed\n",
    "        messages=messages\n",
    "    )\n",
    "    return response['message']['content']\n",
    "\n",
    "# Display summary in Markdown (for Jupyter Notebooks)\n",
    "def display_summary(url):\n",
    "    summary = summarize(url)\n",
    "    display(Markdown(summary))\n",
    "\n",
    "# Example Run\n",
    "display_summary(\"https://edwarddonner.com\")  # Change URL to test other sites\n"
   ]
  }
 ],
 "metadata": {
  "kernelspec": {
   "display_name": "base",
   "language": "python",
   "name": "python3"
  },
  "language_info": {
   "codemirror_mode": {
    "name": "ipython",
    "version": 3
   },
   "file_extension": ".py",
   "mimetype": "text/x-python",
   "name": "python",
   "nbconvert_exporter": "python",
   "pygments_lexer": "ipython3",
   "version": "3.12.7"
  }
 },
 "nbformat": 4,
 "nbformat_minor": 5
}
